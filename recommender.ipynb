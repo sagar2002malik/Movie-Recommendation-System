{
 "cells": [
  {
   "cell_type": "code",
   "execution_count": 1,
   "metadata": {},
   "outputs": [
    {
     "name": "stderr",
     "output_type": "stream",
     "text": [
      "[nltk_data] Downloading package stopwords to\n",
      "[nltk_data]     C:\\Users\\sm865\\AppData\\Roaming\\nltk_data...\n",
      "[nltk_data]   Package stopwords is already up-to-date!\n"
     ]
    }
   ],
   "source": [
    "import pandas as pd\n",
    "import numpy as np\n",
    "import nltk\n",
    "from sklearn.feature_extraction.text import TfidfVectorizer\n",
    "from sklearn.metrics.pairwise import cosine_similarity\n",
    "import pickle\n",
    "\n",
    "# Download necessary NLTK datasets\n",
    "nltk.download('stopwords')\n",
    "from nltk.corpus import stopwords\n"
   ]
  },
  {
   "cell_type": "code",
   "execution_count": 2,
   "metadata": {},
   "outputs": [
    {
     "name": "stdout",
     "output_type": "stream",
     "text": [
      "   movie_id                                   title  \\\n",
      "0   1118031  Apocalypse Z: The Beginning of the End   \n",
      "1   1184918                          The Wild Robot   \n",
      "2    933260                           The Substance   \n",
      "3    912649                   Venom: The Last Dance   \n",
      "4   1034541                             Terrifier 3   \n",
      "\n",
      "                                            overview  \\\n",
      "0  When a kind of rabies that transforms people i...   \n",
      "1  After a shipwreck, an intelligent robot called...   \n",
      "2  A fading celebrity decides to use a black mark...   \n",
      "3  Eddie and Venom are on the run. Hunted by both...   \n",
      "4  Five years after surviving Art the Clown's Hal...   \n",
      "\n",
      "                               genres  \\\n",
      "0               Drama, Action, Horror   \n",
      "1  Animation, Science Fiction, Family   \n",
      "2      Drama, Horror, Science Fiction   \n",
      "3  Science Fiction, Action, Adventure   \n",
      "4           Horror, Thriller, Mystery   \n",
      "\n",
      "                                            keywords  \\\n",
      "0  based on novel or book, cat, human animal rela...   \n",
      "1  robot, based on children's book, adopted son, ...   \n",
      "2  new year's eve, capitalism, black market, iden...   \n",
      "3  hero, superhero, anti hero, villain, alien lif...   \n",
      "4  monster, post-traumatic stress disorder (ptsd)...   \n",
      "\n",
      "                                                cast             crew  \\\n",
      "0  Francisco Ortiz, José María Yázpik, Berta Vázq...   Carles Torrens   \n",
      "1  Lupita Nyong'o, Pedro Pascal, Kit Connor, Bill...    Chris Sanders   \n",
      "2  Demi Moore, Margaret Qualley, Dennis Quaid, Ed...  Coralie Fargeat   \n",
      "3  Tom Hardy, Chiwetel Ejiofor, Juno Temple, Clar...     Kelly Marcel   \n",
      "4  Lauren LaVera, Elliott Fullam, David Howard Th...     Damien Leone   \n",
      "\n",
      "                                                tags  \n",
      "0  When a kind of rabies that transforms people i...  \n",
      "1  After a shipwreck, an intelligent robot called...  \n",
      "2  A fading celebrity decides to use a black mark...  \n",
      "3  Eddie and Venom are on the run. Hunted by both...  \n",
      "4  Five years after surviving Art the Clown's Hal...  \n"
     ]
    }
   ],
   "source": [
    "# Load the dataset from a CSV file\n",
    "df = pd.read_csv('dataset/movies_data.csv')\n",
    "\n",
    "# Check the data structure\n",
    "print(df.head())\n",
    "\n",
    "# Fill missing values\n",
    "df.fillna('', inplace=True)\n",
    "\n",
    "# Combine relevant features into a single text field for each movie\n",
    "df['combined_features'] = df['genres'] + ' ' + df['keywords'] + ' ' + df['cast'] + ' ' + df['crew'] + ' ' + df['tags']\n"
   ]
  },
  {
   "cell_type": "code",
   "execution_count": 3,
   "metadata": {},
   "outputs": [],
   "source": [
    "# Preprocessing: Remove stopwords and perform TF-IDF vectorization\n",
    "stop_words = set(stopwords.words('english'))\n",
    "\n",
    "def preprocess_text(text):\n",
    "    # Remove stopwords from the combined text features\n",
    "    return ' '.join([word for word in text.split() if word.lower() not in stop_words])\n",
    "\n",
    "df['combined_features'] = df['combined_features'].apply(preprocess_text)\n",
    "\n",
    "# Use TF-IDF Vectorizer to convert text into a matrix of features\n",
    "tfidf_vectorizer = TfidfVectorizer(stop_words='english')\n",
    "tfidf_matrix = tfidf_vectorizer.fit_transform(df['combined_features'])\n"
   ]
  },
  {
   "cell_type": "code",
   "execution_count": 4,
   "metadata": {},
   "outputs": [],
   "source": [
    "# Compute cosine similarity between the movies\n",
    "cosine_sim = cosine_similarity(tfidf_matrix, tfidf_matrix)\n",
    "\n",
    "# Create a mapping of movie_id to index\n",
    "movie_indices = pd.Series(df.index, index=df['movie_id']).to_dict()\n"
   ]
  },
  {
   "cell_type": "code",
   "execution_count": 5,
   "metadata": {},
   "outputs": [
    {
     "name": "stdout",
     "output_type": "stream",
     "text": [
      "      movie_id                        title  \\\n",
      "13      580489  Venom: Let There Be Carnage   \n",
      "5453   1065311    Starring Jerry As Himself   \n",
      "12      335983                        Venom   \n",
      "81      634649      Spider-Man: No Way Home   \n",
      "5745    617127                        Blade   \n",
      "\n",
      "                                               overview  \n",
      "13    After finding a host body in investigative rep...  \n",
      "5453  Jerry, an ordinary immigrant dad, retired in O...  \n",
      "12    Investigative journalist Eddie Brock attempts ...  \n",
      "81    Peter Parker is unmasked and no longer able to...  \n",
      "5745  An upcoming film in the Marvel Cinematic Unive...  \n"
     ]
    }
   ],
   "source": [
    "def recommend_movies_by_name(movie_name, num_recommendations=5):\n",
    "    # Get the index of the movie by its title (case-insensitive match)\n",
    "    idx = df[df['title'].str.contains(movie_name, case=False, na=False)].index\n",
    "\n",
    "    if len(idx) == 0:\n",
    "        return \"Movie not found.\"\n",
    "\n",
    "    # Get the index of the first matched movie (in case of multiple matches)\n",
    "    idx = idx[0]\n",
    "\n",
    "    # Get pairwise similarity scores for the movie with all other movies\n",
    "    sim_scores = list(enumerate(cosine_sim[idx]))\n",
    "\n",
    "    # Sort the movies based on similarity scores (in descending order)\n",
    "    sim_scores = sorted(sim_scores, key=lambda x: x[1], reverse=True)\n",
    "\n",
    "    # Get the top 'num_recommendations' movies\n",
    "    sim_scores = sim_scores[1:num_recommendations + 1]\n",
    "\n",
    "    # Get the movie indices of the recommended movies\n",
    "    movie_indices_recommended = [i[0] for i in sim_scores]\n",
    "\n",
    "    # Return the recommended movies\n",
    "    recommended_movies = df.iloc[movie_indices_recommended]\n",
    "    return recommended_movies[['movie_id', 'title', 'overview']]\n",
    "\n",
    "# Example usage\n",
    "movie_name = \"Venom\"  # Replace with a valid movie title from your dataset\n",
    "recommended_movies = recommend_movies_by_name(movie_name, 5)\n",
    "print(recommended_movies)\n"
   ]
  },
  {
   "cell_type": "code",
   "execution_count": 6,
   "metadata": {},
   "outputs": [],
   "source": [
    "# Save the movie list (df) to a pickle file\n",
    "with open('model/movie_list.pkl', 'wb') as f:\n",
    "    pickle.dump(df, f)\n",
    "\n",
    "# Save the similarity matrix (cosine_sim) to a pickle file\n",
    "with open('model/movie_similarity.pkl', 'wb') as f:\n",
    "    pickle.dump(cosine_sim, f)\n"
   ]
  },
  {
   "cell_type": "code",
   "execution_count": 7,
   "metadata": {},
   "outputs": [],
   "source": [
    "# Load movie list from pickle file\n",
    "with open('model/movie_list.pkl', 'rb') as f:\n",
    "    df_loaded = pickle.load(f)\n",
    "\n",
    "# Load similarity matrix from pickle file\n",
    "with open('model/movie_similarity.pkl', 'rb') as f:\n",
    "    cosine_sim_loaded = pickle.load(f)\n",
    "\n",
    "# Now you can use the loaded data to make recommendations\n"
   ]
  }
 ],
 "metadata": {
  "kernelspec": {
   "display_name": "Python 3",
   "language": "python",
   "name": "python3"
  },
  "language_info": {
   "codemirror_mode": {
    "name": "ipython",
    "version": 3
   },
   "file_extension": ".py",
   "mimetype": "text/x-python",
   "name": "python",
   "nbconvert_exporter": "python",
   "pygments_lexer": "ipython3",
   "version": "3.13.0"
  }
 },
 "nbformat": 4,
 "nbformat_minor": 2
}
